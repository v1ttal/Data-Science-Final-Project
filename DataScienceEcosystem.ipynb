{
 "cells": [
  {
   "cell_type": "markdown",
   "id": "ced39017-b6bc-473e-92e6-3758400ec4b2",
   "metadata": {},
   "source": [
    "# Data Science Final Project\n"
   ]
  },
  {
   "cell_type": "markdown",
   "id": "e9da0b30-2d03-4d19-803b-f0c3cba458ed",
   "metadata": {},
   "source": [
    "## Introduction\n",
    "This notebook covers various aspects of data science, including languages, libraries, tools, and basic arithmetic operations. It also includes the objectives as well.\n"
   ]
  },
  {
   "cell_type": "markdown",
   "id": "c4358a38-ce76-4349-8a98-21f136e7738f",
   "metadata": {},
   "source": [
    "#### Programming langauge such as\n",
    "  R, Python, Scala, SQL,Julia"
   ]
  },
  {
   "cell_type": "markdown",
   "id": "70fe5618-091d-42ba-a18f-aa165e082fba",
   "metadata": {},
   "source": [
    "### Data Science Libraries\n",
    "Pandas,NumPy,Matplotlib,Scikit-learn, TensorFlow,\n"
   ]
  },
  {
   "cell_type": "markdown",
   "id": "d2716b14-5e78-48b4-a724-5d8c4f890bff",
   "metadata": {},
   "source": [
    "## Data Science Tools\n",
    "| Tool            | Description                                      |\n",
    "|-----------------|--------------------------------------------------|\n",
    "| Jupyter Notebook| Interactive computing environment                |\n",
    "| RStudio         | Integrated development environment for R         |\n",
    "| Apache Spark    | Cluster-computing framework                      |\n",
    "| TensorFlow      | Open-source machine learning framework           |\n",
    "| Tableau         | Data visualization tool                          |\n"
   ]
  },
  {
   "cell_type": "markdown",
   "id": "faa185d9-8b14-4c2d-9a77-cda919835c46",
   "metadata": {},
   "source": [
    "## Arithmetic Expression Examples\n",
    "In the following cells, I will perform basic arithmetic operations such as addition and multiplication.\n"
   ]
  },
  {
   "cell_type": "code",
   "execution_count": 1,
   "id": "1d90c6d2-151a-4a34-84d1-f3c7ae5af1ac",
   "metadata": {},
   "outputs": [
    {
     "data": {
      "text/plain": [
       "8"
      ]
     },
     "execution_count": 1,
     "metadata": {},
     "output_type": "execute_result"
    }
   ],
   "source": [
    "# addition of numbers\n",
    "a = 5\n",
    "b = 3\n",
    "sum = a + b\n",
    "sum\n"
   ]
  },
  {
   "cell_type": "markdown",
   "id": "c59fe7cd-0c1b-4e8b-8876-505fa40f27e0",
   "metadata": {},
   "source": [
    "## Arithmetic Expression Examples\n",
    "Multiplication.\n"
   ]
  },
  {
   "cell_type": "code",
   "execution_count": 2,
   "id": "86b27f8e-18f3-47cb-9e0d-fde2692adabb",
   "metadata": {},
   "outputs": [
    {
     "data": {
      "text/plain": [
       "15"
      ]
     },
     "execution_count": 2,
     "metadata": {},
     "output_type": "execute_result"
    }
   ],
   "source": [
    "# Multiplication of numbers\n",
    "a = 5\n",
    "b = 3\n",
    "product = a * b\n",
    "product\n"
   ]
  },
  {
   "cell_type": "markdown",
   "id": "7196f144-8c7b-4b33-89b4-2bf17f4f31f0",
   "metadata": {},
   "source": [
    "## Hours to Minutes"
   ]
  },
  {
   "cell_type": "code",
   "execution_count": 3,
   "id": "411a99ec-76c5-41ab-a8f6-64ae4669d2a6",
   "metadata": {},
   "outputs": [
    {
     "data": {
      "text/plain": [
       "2.5"
      ]
     },
     "execution_count": 3,
     "metadata": {},
     "output_type": "execute_result"
    }
   ],
   "source": [
    "\n",
    "# Convert minutes to hours\n",
    "minutes = 150\n",
    "hours = minutes / 60\n",
    "hours\n"
   ]
  },
  {
   "cell_type": "markdown",
   "id": "2858b29f-097b-49da-95b8-f03cc18d63ab",
   "metadata": {},
   "source": [
    "## Objectives\n",
    "The objectives of this project are:\n",
    "- To list popular data science languages and libraries\n",
    "- To demonstrate basic arithmetic operations\n",
    "- To provide a table of data science tools\n",
    "- To showcase how to convert minutes to hours using Python\n"
   ]
  },
  {
   "cell_type": "markdown",
   "id": "036a8097-908b-4d2c-9ff1-3d3f86675209",
   "metadata": {},
   "source": [
    "## Author\n",
    "Vittal\n"
   ]
  }
 ],
 "metadata": {
  "kernelspec": {
   "display_name": "Python 3 (ipykernel)",
   "language": "python",
   "name": "python3"
  },
  "language_info": {
   "codemirror_mode": {
    "name": "ipython",
    "version": 3
   },
   "file_extension": ".py",
   "mimetype": "text/x-python",
   "name": "python",
   "nbconvert_exporter": "python",
   "pygments_lexer": "ipython3",
   "version": "3.9.13"
  }
 },
 "nbformat": 4,
 "nbformat_minor": 5
}
